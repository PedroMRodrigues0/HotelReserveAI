{
 "cells": [
  {
   "cell_type": "markdown",
   "metadata": {},
   "source": [
    "# Obter o dataset"
   ]
  },
  {
   "cell_type": "code",
   "execution_count": 1,
   "metadata": {},
   "outputs": [],
   "source": [
    "import pandas as pd"
   ]
  },
  {
   "cell_type": "code",
   "execution_count": 2,
   "metadata": {},
   "outputs": [
    {
     "data": {
      "text/html": [
       "<div>\n",
       "<style scoped>\n",
       "    .dataframe tbody tr th:only-of-type {\n",
       "        vertical-align: middle;\n",
       "    }\n",
       "\n",
       "    .dataframe tbody tr th {\n",
       "        vertical-align: top;\n",
       "    }\n",
       "\n",
       "    .dataframe thead th {\n",
       "        text-align: right;\n",
       "    }\n",
       "</style>\n",
       "<table border=\"1\" class=\"dataframe\">\n",
       "  <thead>\n",
       "    <tr style=\"text-align: right;\">\n",
       "      <th></th>\n",
       "      <th>id</th>\n",
       "      <th>antecedencia_da_reserva</th>\n",
       "      <th>mes_chegada</th>\n",
       "      <th>dia_chegada</th>\n",
       "      <th>noites_da_estadia</th>\n",
       "      <th>noites_fim_de_semana</th>\n",
       "      <th>hotel_de_praia</th>\n",
       "      <th>regime</th>\n",
       "      <th>adultos</th>\n",
       "      <th>criancas</th>\n",
       "      <th>bebes</th>\n",
       "      <th>ja_cliente</th>\n",
       "      <th>cancelamentos_anteriores</th>\n",
       "      <th>reservas_anteriores_nao_canceladas</th>\n",
       "      <th>alteracoes_da_reserva</th>\n",
       "      <th>total_de_pedidos</th>\n",
       "      <th>tipo_deposito</th>\n",
       "      <th>cancelada</th>\n",
       "    </tr>\n",
       "  </thead>\n",
       "  <tbody>\n",
       "    <tr>\n",
       "      <th>0</th>\n",
       "      <td>1</td>\n",
       "      <td>26</td>\n",
       "      <td>November</td>\n",
       "      <td>25</td>\n",
       "      <td>7</td>\n",
       "      <td>2</td>\n",
       "      <td>yes</td>\n",
       "      <td>HB - Half Board</td>\n",
       "      <td>3</td>\n",
       "      <td>0</td>\n",
       "      <td>0</td>\n",
       "      <td>no</td>\n",
       "      <td>0</td>\n",
       "      <td>0</td>\n",
       "      <td>0</td>\n",
       "      <td>2</td>\n",
       "      <td>No Deposit</td>\n",
       "      <td>no</td>\n",
       "    </tr>\n",
       "    <tr>\n",
       "      <th>1</th>\n",
       "      <td>2</td>\n",
       "      <td>31</td>\n",
       "      <td>June</td>\n",
       "      <td>1</td>\n",
       "      <td>2</td>\n",
       "      <td>0</td>\n",
       "      <td>no</td>\n",
       "      <td>BB - Bed &amp; Breakfast</td>\n",
       "      <td>2</td>\n",
       "      <td>0</td>\n",
       "      <td>0</td>\n",
       "      <td>no</td>\n",
       "      <td>0</td>\n",
       "      <td>0</td>\n",
       "      <td>0</td>\n",
       "      <td>0</td>\n",
       "      <td>Non Refund</td>\n",
       "      <td>yes</td>\n",
       "    </tr>\n",
       "    <tr>\n",
       "      <th>2</th>\n",
       "      <td>5</td>\n",
       "      <td>4</td>\n",
       "      <td>March</td>\n",
       "      <td>17</td>\n",
       "      <td>3</td>\n",
       "      <td>0</td>\n",
       "      <td>no</td>\n",
       "      <td>BB - Bed &amp; Breakfast</td>\n",
       "      <td>2</td>\n",
       "      <td>0</td>\n",
       "      <td>0</td>\n",
       "      <td>no</td>\n",
       "      <td>0</td>\n",
       "      <td>0</td>\n",
       "      <td>0</td>\n",
       "      <td>0</td>\n",
       "      <td>No Deposit</td>\n",
       "      <td>yes</td>\n",
       "    </tr>\n",
       "    <tr>\n",
       "      <th>3</th>\n",
       "      <td>8</td>\n",
       "      <td>6</td>\n",
       "      <td>December</td>\n",
       "      <td>1</td>\n",
       "      <td>1</td>\n",
       "      <td>0</td>\n",
       "      <td>yes</td>\n",
       "      <td>BB - Bed &amp; Breakfast</td>\n",
       "      <td>1</td>\n",
       "      <td>0</td>\n",
       "      <td>0</td>\n",
       "      <td>no</td>\n",
       "      <td>0</td>\n",
       "      <td>0</td>\n",
       "      <td>0</td>\n",
       "      <td>2</td>\n",
       "      <td>No Deposit</td>\n",
       "      <td>no</td>\n",
       "    </tr>\n",
       "    <tr>\n",
       "      <th>4</th>\n",
       "      <td>12</td>\n",
       "      <td>65</td>\n",
       "      <td>March</td>\n",
       "      <td>12</td>\n",
       "      <td>4</td>\n",
       "      <td>2</td>\n",
       "      <td>no</td>\n",
       "      <td>BB - Bed &amp; Breakfast</td>\n",
       "      <td>2</td>\n",
       "      <td>0</td>\n",
       "      <td>0</td>\n",
       "      <td>no</td>\n",
       "      <td>0</td>\n",
       "      <td>0</td>\n",
       "      <td>0</td>\n",
       "      <td>0</td>\n",
       "      <td>No Deposit</td>\n",
       "      <td>yes</td>\n",
       "    </tr>\n",
       "  </tbody>\n",
       "</table>\n",
       "</div>"
      ],
      "text/plain": [
       "   id  antecedencia_da_reserva mes_chegada  dia_chegada  noites_da_estadia  \\\n",
       "0   1                       26    November           25                  7   \n",
       "1   2                       31        June            1                  2   \n",
       "2   5                        4       March           17                  3   \n",
       "3   8                        6    December            1                  1   \n",
       "4  12                       65       March           12                  4   \n",
       "\n",
       "   noites_fim_de_semana hotel_de_praia                regime  adultos  \\\n",
       "0                     2            yes       HB - Half Board        3   \n",
       "1                     0             no  BB - Bed & Breakfast        2   \n",
       "2                     0             no  BB - Bed & Breakfast        2   \n",
       "3                     0            yes  BB - Bed & Breakfast        1   \n",
       "4                     2             no  BB - Bed & Breakfast        2   \n",
       "\n",
       "   criancas  bebes ja_cliente  cancelamentos_anteriores  \\\n",
       "0         0      0         no                         0   \n",
       "1         0      0         no                         0   \n",
       "2         0      0         no                         0   \n",
       "3         0      0         no                         0   \n",
       "4         0      0         no                         0   \n",
       "\n",
       "   reservas_anteriores_nao_canceladas  alteracoes_da_reserva  \\\n",
       "0                                   0                      0   \n",
       "1                                   0                      0   \n",
       "2                                   0                      0   \n",
       "3                                   0                      0   \n",
       "4                                   0                      0   \n",
       "\n",
       "   total_de_pedidos tipo_deposito cancelada  \n",
       "0                 2    No Deposit        no  \n",
       "1                 0    Non Refund       yes  \n",
       "2                 0    No Deposit       yes  \n",
       "3                 2    No Deposit        no  \n",
       "4                 0    No Deposit       yes  "
      ]
     },
     "execution_count": 2,
     "metadata": {},
     "output_type": "execute_result"
    }
   ],
   "source": [
    "dataset = pd.read_csv(\"./dataset.csv\", sep=\";\") # ter em atenção o caminho do ficheiro\n",
    "dataset.head()"
   ]
  },
  {
   "cell_type": "markdown",
   "metadata": {},
   "source": [
    "#### Verificar Correlação das colunas"
   ]
  },
  {
   "cell_type": "code",
   "execution_count": 3,
   "metadata": {},
   "outputs": [],
   "source": [
    "import seaborn as sns\n",
    "import matplotlib.pyplot as plt"
   ]
  },
  {
   "cell_type": "code",
   "execution_count": 4,
   "metadata": {},
   "outputs": [
    {
     "data": {
      "image/png": "[encoded data removed]",
      "text/plain": [
       "<Figure size 640x480 with 2 Axes>"
      ]
     },
     "metadata": {},
     "output_type": "display_data"
    }
   ],
   "source": [
    "sns.heatmap(dataset.corr(), cmap=\"YlGnBu\")\n",
    "plt.show()"
   ]
  },
  {
   "cell_type": "markdown",
   "metadata": {},
   "source": [
    "#### Verificar estatísticas do dataframe"
   ]
  },
  {
   "cell_type": "code",
   "execution_count": 5,
   "metadata": {},
   "outputs": [
    {
     "data": {
      "text/html": [
       "<div>\n",
       "<style scoped>\n",
       "    .dataframe tbody tr th:only-of-type {\n",
       "        vertical-align: middle;\n",
       "    }\n",
       "\n",
       "    .dataframe tbody tr th {\n",
       "        vertical-align: top;\n",
       "    }\n",
       "\n",
       "    .dataframe thead th {\n",
       "        text-align: right;\n",
       "    }\n",
       "</style>\n",
       "<table border=\"1\" class=\"dataframe\">\n",
       "  <thead>\n",
       "    <tr style=\"text-align: right;\">\n",
       "      <th></th>\n",
       "      <th>id</th>\n",
       "      <th>antecedencia_da_reserva</th>\n",
       "      <th>dia_chegada</th>\n",
       "      <th>noites_da_estadia</th>\n",
       "      <th>noites_fim_de_semana</th>\n",
       "      <th>adultos</th>\n",
       "      <th>criancas</th>\n",
       "      <th>bebes</th>\n",
       "      <th>cancelamentos_anteriores</th>\n",
       "      <th>reservas_anteriores_nao_canceladas</th>\n",
       "      <th>alteracoes_da_reserva</th>\n",
       "      <th>total_de_pedidos</th>\n",
       "    </tr>\n",
       "  </thead>\n",
       "  <tbody>\n",
       "    <tr>\n",
       "      <th>count</th>\n",
       "      <td>20000.000000</td>\n",
       "      <td>20000.000000</td>\n",
       "      <td>20000.00000</td>\n",
       "      <td>20000.000000</td>\n",
       "      <td>20000.00000</td>\n",
       "      <td>20000.000000</td>\n",
       "      <td>20000.000000</td>\n",
       "      <td>20000.000000</td>\n",
       "      <td>20000.000000</td>\n",
       "      <td>20000.000000</td>\n",
       "      <td>20000.000000</td>\n",
       "      <td>20000.000000</td>\n",
       "    </tr>\n",
       "    <tr>\n",
       "      <th>mean</th>\n",
       "      <td>39143.443350</td>\n",
       "      <td>104.325000</td>\n",
       "      <td>15.87400</td>\n",
       "      <td>3.418900</td>\n",
       "      <td>0.92745</td>\n",
       "      <td>1.860500</td>\n",
       "      <td>0.104750</td>\n",
       "      <td>0.007750</td>\n",
       "      <td>0.078550</td>\n",
       "      <td>0.131000</td>\n",
       "      <td>0.219450</td>\n",
       "      <td>0.575700</td>\n",
       "    </tr>\n",
       "    <tr>\n",
       "      <th>std</th>\n",
       "      <td>22668.495051</td>\n",
       "      <td>106.236841</td>\n",
       "      <td>8.79385</td>\n",
       "      <td>2.511342</td>\n",
       "      <td>0.99022</td>\n",
       "      <td>0.483375</td>\n",
       "      <td>0.401355</td>\n",
       "      <td>0.088828</td>\n",
       "      <td>0.706544</td>\n",
       "      <td>1.335151</td>\n",
       "      <td>0.623547</td>\n",
       "      <td>0.791897</td>\n",
       "    </tr>\n",
       "    <tr>\n",
       "      <th>min</th>\n",
       "      <td>1.000000</td>\n",
       "      <td>0.000000</td>\n",
       "      <td>1.00000</td>\n",
       "      <td>0.000000</td>\n",
       "      <td>0.00000</td>\n",
       "      <td>0.000000</td>\n",
       "      <td>0.000000</td>\n",
       "      <td>0.000000</td>\n",
       "      <td>0.000000</td>\n",
       "      <td>0.000000</td>\n",
       "      <td>0.000000</td>\n",
       "      <td>0.000000</td>\n",
       "    </tr>\n",
       "    <tr>\n",
       "      <th>25%</th>\n",
       "      <td>19515.500000</td>\n",
       "      <td>19.000000</td>\n",
       "      <td>8.00000</td>\n",
       "      <td>2.000000</td>\n",
       "      <td>0.00000</td>\n",
       "      <td>2.000000</td>\n",
       "      <td>0.000000</td>\n",
       "      <td>0.000000</td>\n",
       "      <td>0.000000</td>\n",
       "      <td>0.000000</td>\n",
       "      <td>0.000000</td>\n",
       "      <td>0.000000</td>\n",
       "    </tr>\n",
       "    <tr>\n",
       "      <th>50%</th>\n",
       "      <td>39041.000000</td>\n",
       "      <td>69.000000</td>\n",
       "      <td>16.00000</td>\n",
       "      <td>3.000000</td>\n",
       "      <td>1.00000</td>\n",
       "      <td>2.000000</td>\n",
       "      <td>0.000000</td>\n",
       "      <td>0.000000</td>\n",
       "      <td>0.000000</td>\n",
       "      <td>0.000000</td>\n",
       "      <td>0.000000</td>\n",
       "      <td>0.000000</td>\n",
       "    </tr>\n",
       "    <tr>\n",
       "      <th>75%</th>\n",
       "      <td>58812.500000</td>\n",
       "      <td>160.000000</td>\n",
       "      <td>24.00000</td>\n",
       "      <td>4.000000</td>\n",
       "      <td>2.00000</td>\n",
       "      <td>2.000000</td>\n",
       "      <td>0.000000</td>\n",
       "      <td>0.000000</td>\n",
       "      <td>0.000000</td>\n",
       "      <td>0.000000</td>\n",
       "      <td>0.000000</td>\n",
       "      <td>1.000000</td>\n",
       "    </tr>\n",
       "    <tr>\n",
       "      <th>max</th>\n",
       "      <td>78556.000000</td>\n",
       "      <td>630.000000</td>\n",
       "      <td>31.00000</td>\n",
       "      <td>31.000000</td>\n",
       "      <td>9.00000</td>\n",
       "      <td>5.000000</td>\n",
       "      <td>3.000000</td>\n",
       "      <td>2.000000</td>\n",
       "      <td>27.000000</td>\n",
       "      <td>64.000000</td>\n",
       "      <td>13.000000</td>\n",
       "      <td>6.000000</td>\n",
       "    </tr>\n",
       "  </tbody>\n",
       "</table>\n",
       "</div>"
      ],
      "text/plain": [
       "                 id  antecedencia_da_reserva  dia_chegada  noites_da_estadia  \\\n",
       "count  20000.000000             20000.000000  20000.00000       20000.000000   \n",
       "mean   39143.443350               104.325000     15.87400           3.418900   \n",
       "std    22668.495051               106.236841      8.79385           2.511342   \n",
       "min        1.000000                 0.000000      1.00000           0.000000   \n",
       "25%    19515.500000                19.000000      8.00000           2.000000   \n",
       "50%    39041.000000                69.000000     16.00000           3.000000   \n",
       "75%    58812.500000               160.000000     24.00000           4.000000   \n",
       "max    78556.000000               630.000000     31.00000          31.000000   \n",
       "\n",
       "       noites_fim_de_semana       adultos      criancas         bebes  \\\n",
       "count           20000.00000  20000.000000  20000.000000  20000.000000   \n",
       "mean                0.92745      1.860500      0.104750      0.007750   \n",
       "std                 0.99022      0.483375      0.401355      0.088828   \n",
       "min                 0.00000      0.000000      0.000000      0.000000   \n",
       "25%                 0.00000      2.000000      0.000000      0.000000   \n",
       "50%                 1.00000      2.000000      0.000000      0.000000   \n",
       "75%                 2.00000      2.000000      0.000000      0.000000   \n",
       "max                 9.00000      5.000000      3.000000      2.000000   \n",
       "\n",
       "       cancelamentos_anteriores  reservas_anteriores_nao_canceladas  \\\n",
       "count              20000.000000                        20000.000000   \n",
       "mean                   0.078550                            0.131000   \n",
       "std                    0.706544                            1.335151   \n",
       "min                    0.000000                            0.000000   \n",
       "25%                    0.000000                            0.000000   \n",
       "50%                    0.000000                            0.000000   \n",
       "75%                    0.000000                            0.000000   \n",
       "max                   27.000000                           64.000000   \n",
       "\n",
       "       alteracoes_da_reserva  total_de_pedidos  \n",
       "count           20000.000000      20000.000000  \n",
       "mean                0.219450          0.575700  \n",
       "std                 0.623547          0.791897  \n",
       "min                 0.000000          0.000000  \n",
       "25%                 0.000000          0.000000  \n",
       "50%                 0.000000          0.000000  \n",
       "75%                 0.000000          1.000000  \n",
       "max                13.000000          6.000000  "
      ]
     },
     "execution_count": 5,
     "metadata": {},
     "output_type": "execute_result"
    }
   ],
   "source": [
    "dataset.describe()"
   ]
  },
  {
   "cell_type": "markdown",
   "metadata": {},
   "source": [
    "# Manipular dados"
   ]
  },
  {
   "cell_type": "markdown",
   "metadata": {},
   "source": [
    "### alterar valores como \"yes\" e \"no\" para 0's e 1's:"
   ]
  },
  {
   "cell_type": "code",
   "execution_count": 6,
   "metadata": {},
   "outputs": [],
   "source": [
    "dataset.hotel_de_praia = dataset.hotel_de_praia.map({\n",
    "    \"yes\": 1,\n",
    "    \"no\": 0\n",
    "})\n"
   ]
  },
  {
   "cell_type": "code",
   "execution_count": 7,
   "metadata": {},
   "outputs": [],
   "source": [
    "dataset.ja_cliente = dataset.ja_cliente.map({\n",
    "    \"yes\": 1,\n",
    "    \"no\": 0\n",
    "})\n",
    "\n"
   ]
  },
  {
   "cell_type": "code",
   "execution_count": 8,
   "metadata": {},
   "outputs": [],
   "source": [
    "dataset.cancelada = dataset.cancelada.map({\n",
    "    \"yes\": 1,\n",
    "    \"no\": 0\n",
    "})"
   ]
  },
  {
   "cell_type": "code",
   "execution_count": 9,
   "metadata": {},
   "outputs": [
    {
     "data": {
      "text/html": [
       "<div>\n",
       "<style scoped>\n",
       "    .dataframe tbody tr th:only-of-type {\n",
       "        vertical-align: middle;\n",
       "    }\n",
       "\n",
       "    .dataframe tbody tr th {\n",
       "        vertical-align: top;\n",
       "    }\n",
       "\n",
       "    .dataframe thead th {\n",
       "        text-align: right;\n",
       "    }\n",
       "</style>\n",
       "<table border=\"1\" class=\"dataframe\">\n",
       "  <thead>\n",
       "    <tr style=\"text-align: right;\">\n",
       "      <th></th>\n",
       "      <th>id</th>\n",
       "      <th>antecedencia_da_reserva</th>\n",
       "      <th>mes_chegada</th>\n",
       "      <th>dia_chegada</th>\n",
       "      <th>noites_da_estadia</th>\n",
       "      <th>noites_fim_de_semana</th>\n",
       "      <th>hotel_de_praia</th>\n",
       "      <th>regime</th>\n",
       "      <th>adultos</th>\n",
       "      <th>criancas</th>\n",
       "      <th>bebes</th>\n",
       "      <th>ja_cliente</th>\n",
       "      <th>cancelamentos_anteriores</th>\n",
       "      <th>reservas_anteriores_nao_canceladas</th>\n",
       "      <th>alteracoes_da_reserva</th>\n",
       "      <th>total_de_pedidos</th>\n",
       "      <th>tipo_deposito</th>\n",
       "      <th>cancelada</th>\n",
       "    </tr>\n",
       "  </thead>\n",
       "  <tbody>\n",
       "    <tr>\n",
       "      <th>0</th>\n",
       "      <td>1</td>\n",
       "      <td>26</td>\n",
       "      <td>November</td>\n",
       "      <td>25</td>\n",
       "      <td>7</td>\n",
       "      <td>2</td>\n",
       "      <td>1</td>\n",
       "      <td>HB - Half Board</td>\n",
       "      <td>3</td>\n",
       "      <td>0</td>\n",
       "      <td>0</td>\n",
       "      <td>0</td>\n",
       "      <td>0</td>\n",
       "      <td>0</td>\n",
       "      <td>0</td>\n",
       "      <td>2</td>\n",
       "      <td>No Deposit</td>\n",
       "      <td>0</td>\n",
       "    </tr>\n",
       "    <tr>\n",
       "      <th>1</th>\n",
       "      <td>2</td>\n",
       "      <td>31</td>\n",
       "      <td>June</td>\n",
       "      <td>1</td>\n",
       "      <td>2</td>\n",
       "      <td>0</td>\n",
       "      <td>0</td>\n",
       "      <td>BB - Bed &amp; Breakfast</td>\n",
       "      <td>2</td>\n",
       "      <td>0</td>\n",
       "      <td>0</td>\n",
       "      <td>0</td>\n",
       "      <td>0</td>\n",
       "      <td>0</td>\n",
       "      <td>0</td>\n",
       "      <td>0</td>\n",
       "      <td>Non Refund</td>\n",
       "      <td>1</td>\n",
       "    </tr>\n",
       "    <tr>\n",
       "      <th>2</th>\n",
       "      <td>5</td>\n",
       "      <td>4</td>\n",
       "      <td>March</td>\n",
       "      <td>17</td>\n",
       "      <td>3</td>\n",
       "      <td>0</td>\n",
       "      <td>0</td>\n",
       "      <td>BB - Bed &amp; Breakfast</td>\n",
       "      <td>2</td>\n",
       "      <td>0</td>\n",
       "      <td>0</td>\n",
       "      <td>0</td>\n",
       "      <td>0</td>\n",
       "      <td>0</td>\n",
       "      <td>0</td>\n",
       "      <td>0</td>\n",
       "      <td>No Deposit</td>\n",
       "      <td>1</td>\n",
       "    </tr>\n",
       "    <tr>\n",
       "      <th>3</th>\n",
       "      <td>8</td>\n",
       "      <td>6</td>\n",
       "      <td>December</td>\n",
       "      <td>1</td>\n",
       "      <td>1</td>\n",
       "      <td>0</td>\n",
       "      <td>1</td>\n",
       "      <td>BB - Bed &amp; Breakfast</td>\n",
       "      <td>1</td>\n",
       "      <td>0</td>\n",
       "      <td>0</td>\n",
       "      <td>0</td>\n",
       "      <td>0</td>\n",
       "      <td>0</td>\n",
       "      <td>0</td>\n",
       "      <td>2</td>\n",
       "      <td>No Deposit</td>\n",
       "      <td>0</td>\n",
       "    </tr>\n",
       "    <tr>\n",
       "      <th>4</th>\n",
       "      <td>12</td>\n",
       "      <td>65</td>\n",
       "      <td>March</td>\n",
       "      <td>12</td>\n",
       "      <td>4</td>\n",
       "      <td>2</td>\n",
       "      <td>0</td>\n",
       "      <td>BB - Bed &amp; Breakfast</td>\n",
       "      <td>2</td>\n",
       "      <td>0</td>\n",
       "      <td>0</td>\n",
       "      <td>0</td>\n",
       "      <td>0</td>\n",
       "      <td>0</td>\n",
       "      <td>0</td>\n",
       "      <td>0</td>\n",
       "      <td>No Deposit</td>\n",
       "      <td>1</td>\n",
       "    </tr>\n",
       "  </tbody>\n",
       "</table>\n",
       "</div>"
      ],
      "text/plain": [
       "   id  antecedencia_da_reserva mes_chegada  dia_chegada  noites_da_estadia  \\\n",
       "0   1                       26    November           25                  7   \n",
       "1   2                       31        June            1                  2   \n",
       "2   5                        4       March           17                  3   \n",
       "3   8                        6    December            1                  1   \n",
       "4  12                       65       March           12                  4   \n",
       "\n",
       "   noites_fim_de_semana  hotel_de_praia                regime  adultos  \\\n",
       "0                     2               1       HB - Half Board        3   \n",
       "1                     0               0  BB - Bed & Breakfast        2   \n",
       "2                     0               0  BB - Bed & Breakfast        2   \n",
       "3                     0               1  BB - Bed & Breakfast        1   \n",
       "4                     2               0  BB - Bed & Breakfast        2   \n",
       "\n",
       "   criancas  bebes  ja_cliente  cancelamentos_anteriores  \\\n",
       "0         0      0           0                         0   \n",
       "1         0      0           0                         0   \n",
       "2         0      0           0                         0   \n",
       "3         0      0           0                         0   \n",
       "4         0      0           0                         0   \n",
       "\n",
       "   reservas_anteriores_nao_canceladas  alteracoes_da_reserva  \\\n",
       "0                                   0                      0   \n",
       "1                                   0                      0   \n",
       "2                                   0                      0   \n",
       "3                                   0                      0   \n",
       "4                                   0                      0   \n",
       "\n",
       "   total_de_pedidos tipo_deposito  cancelada  \n",
       "0                 2    No Deposit          0  \n",
       "1                 0    Non Refund          1  \n",
       "2                 0    No Deposit          1  \n",
       "3                 2    No Deposit          0  \n",
       "4                 0    No Deposit          1  "
      ]
     },
     "execution_count": 9,
     "metadata": {},
     "output_type": "execute_result"
    }
   ],
   "source": [
    "dataset.head()"
   ]
  },
  {
   "cell_type": "markdown",
   "metadata": {},
   "source": [
    "### Processo de One-Hot Encoding"
   ]
  },
  {
   "cell_type": "code",
   "execution_count": 10,
   "metadata": {},
   "outputs": [],
   "source": [
    "ntipo_deposito = pd.get_dummies(dataset[[\"tipo_deposito\"]], drop_first=True)"
   ]
  },
  {
   "cell_type": "code",
   "execution_count": 11,
   "metadata": {},
   "outputs": [],
   "source": [
    "nregime = pd.get_dummies(dataset[[\"regime\"]], drop_first=True)"
   ]
  },
  {
   "cell_type": "code",
   "execution_count": 12,
   "metadata": {},
   "outputs": [],
   "source": [
    "nmes_chegada = pd.get_dummies(dataset[[\"mes_chegada\"]], drop_first=True)"
   ]
  },
  {
   "cell_type": "markdown",
   "metadata": {},
   "source": [
    "##### Concatenar novos dados ao dataframe e remover colunas irrelevantes"
   ]
  },
  {
   "cell_type": "code",
   "execution_count": 13,
   "metadata": {},
   "outputs": [],
   "source": [
    "newdframe = pd.concat([dataset, ntipo_deposito, nregime, nmes_chegada], axis=1)"
   ]
  },
  {
   "cell_type": "code",
   "execution_count": 14,
   "metadata": {},
   "outputs": [
    {
     "data": {
      "text/plain": [
       "mes_chegada_July                      0.000011\n",
       "mes_chegada_October                   0.000179\n",
       "mes_chegada_December                  0.001107\n",
       "noites_fim_de_semana                  0.001624\n",
       "id                                    0.002196\n",
       "mes_chegada_August                    0.006742\n",
       "dia_chegada                           0.008449\n",
       "regime_SC - Self Catering             0.008678\n",
       "criancas                              0.010111\n",
       "mes_chegada_May                       0.011610\n",
       "mes_chegada_March                     0.013515\n",
       "tipo_deposito_Refundable              0.017028\n",
       "mes_chegada_September                 0.018474\n",
       "mes_chegada_June                      0.020453\n",
       "noites_da_estadia                     0.021479\n",
       "mes_chegada_February                  0.021979\n",
       "regime_HB - Half Board                0.026456\n",
       "mes_chegada_November                  0.026946\n",
       "mes_chegada_January                   0.031887\n",
       "bebes                                 0.032400\n",
       "regime_FB - Full Board                0.038484\n",
       "adultos                               0.059050\n",
       "reservas_anteriores_nao_canceladas    0.060990\n",
       "ja_cliente                            0.081672\n",
       "cancelamentos_anteriores              0.118491\n",
       "hotel_de_praia                        0.140886\n",
       "alteracoes_da_reserva                 0.142880\n",
       "total_de_pedidos                      0.233488\n",
       "antecedencia_da_reserva               0.287612\n",
       "tipo_deposito_Non Refund              0.480948\n",
       "cancelada                             1.000000\n",
       "Name: cancelada, dtype: float64"
      ]
     },
     "execution_count": 14,
     "metadata": {},
     "output_type": "execute_result"
    }
   ],
   "source": [
    "newdframe.corr().cancelada.abs().sort_values()"
   ]
  },
  {
   "cell_type": "code",
   "execution_count": 15,
   "metadata": {},
   "outputs": [],
   "source": [
    "columns = [\n",
    "    \"id\",\n",
    "    \"tipo_deposito\",\n",
    "    \"regime\",\n",
    "    \"mes_chegada\"\n",
    "]\n",
    "newdframe.drop(columns = columns, inplace = True)"
   ]
  },
  {
   "cell_type": "code",
   "execution_count": 16,
   "metadata": {},
   "outputs": [
    {
     "data": {
      "text/html": [
       "<div>\n",
       "<style scoped>\n",
       "    .dataframe tbody tr th:only-of-type {\n",
       "        vertical-align: middle;\n",
       "    }\n",
       "\n",
       "    .dataframe tbody tr th {\n",
       "        vertical-align: top;\n",
       "    }\n",
       "\n",
       "    .dataframe thead th {\n",
       "        text-align: right;\n",
       "    }\n",
       "</style>\n",
       "<table border=\"1\" class=\"dataframe\">\n",
       "  <thead>\n",
       "    <tr style=\"text-align: right;\">\n",
       "      <th></th>\n",
       "      <th>antecedencia_da_reserva</th>\n",
       "      <th>dia_chegada</th>\n",
       "      <th>noites_da_estadia</th>\n",
       "      <th>noites_fim_de_semana</th>\n",
       "      <th>hotel_de_praia</th>\n",
       "      <th>adultos</th>\n",
       "      <th>criancas</th>\n",
       "      <th>bebes</th>\n",
       "      <th>ja_cliente</th>\n",
       "      <th>cancelamentos_anteriores</th>\n",
       "      <th>...</th>\n",
       "      <th>mes_chegada_December</th>\n",
       "      <th>mes_chegada_February</th>\n",
       "      <th>mes_chegada_January</th>\n",
       "      <th>mes_chegada_July</th>\n",
       "      <th>mes_chegada_June</th>\n",
       "      <th>mes_chegada_March</th>\n",
       "      <th>mes_chegada_May</th>\n",
       "      <th>mes_chegada_November</th>\n",
       "      <th>mes_chegada_October</th>\n",
       "      <th>mes_chegada_September</th>\n",
       "    </tr>\n",
       "  </thead>\n",
       "  <tbody>\n",
       "    <tr>\n",
       "      <th>0</th>\n",
       "      <td>26</td>\n",
       "      <td>25</td>\n",
       "      <td>7</td>\n",
       "      <td>2</td>\n",
       "      <td>1</td>\n",
       "      <td>3</td>\n",
       "      <td>0</td>\n",
       "      <td>0</td>\n",
       "      <td>0</td>\n",
       "      <td>0</td>\n",
       "      <td>...</td>\n",
       "      <td>0</td>\n",
       "      <td>0</td>\n",
       "      <td>0</td>\n",
       "      <td>0</td>\n",
       "      <td>0</td>\n",
       "      <td>0</td>\n",
       "      <td>0</td>\n",
       "      <td>1</td>\n",
       "      <td>0</td>\n",
       "      <td>0</td>\n",
       "    </tr>\n",
       "    <tr>\n",
       "      <th>1</th>\n",
       "      <td>31</td>\n",
       "      <td>1</td>\n",
       "      <td>2</td>\n",
       "      <td>0</td>\n",
       "      <td>0</td>\n",
       "      <td>2</td>\n",
       "      <td>0</td>\n",
       "      <td>0</td>\n",
       "      <td>0</td>\n",
       "      <td>0</td>\n",
       "      <td>...</td>\n",
       "      <td>0</td>\n",
       "      <td>0</td>\n",
       "      <td>0</td>\n",
       "      <td>0</td>\n",
       "      <td>1</td>\n",
       "      <td>0</td>\n",
       "      <td>0</td>\n",
       "      <td>0</td>\n",
       "      <td>0</td>\n",
       "      <td>0</td>\n",
       "    </tr>\n",
       "    <tr>\n",
       "      <th>2</th>\n",
       "      <td>4</td>\n",
       "      <td>17</td>\n",
       "      <td>3</td>\n",
       "      <td>0</td>\n",
       "      <td>0</td>\n",
       "      <td>2</td>\n",
       "      <td>0</td>\n",
       "      <td>0</td>\n",
       "      <td>0</td>\n",
       "      <td>0</td>\n",
       "      <td>...</td>\n",
       "      <td>0</td>\n",
       "      <td>0</td>\n",
       "      <td>0</td>\n",
       "      <td>0</td>\n",
       "      <td>0</td>\n",
       "      <td>1</td>\n",
       "      <td>0</td>\n",
       "      <td>0</td>\n",
       "      <td>0</td>\n",
       "      <td>0</td>\n",
       "    </tr>\n",
       "    <tr>\n",
       "      <th>3</th>\n",
       "      <td>6</td>\n",
       "      <td>1</td>\n",
       "      <td>1</td>\n",
       "      <td>0</td>\n",
       "      <td>1</td>\n",
       "      <td>1</td>\n",
       "      <td>0</td>\n",
       "      <td>0</td>\n",
       "      <td>0</td>\n",
       "      <td>0</td>\n",
       "      <td>...</td>\n",
       "      <td>1</td>\n",
       "      <td>0</td>\n",
       "      <td>0</td>\n",
       "      <td>0</td>\n",
       "      <td>0</td>\n",
       "      <td>0</td>\n",
       "      <td>0</td>\n",
       "      <td>0</td>\n",
       "      <td>0</td>\n",
       "      <td>0</td>\n",
       "    </tr>\n",
       "    <tr>\n",
       "      <th>4</th>\n",
       "      <td>65</td>\n",
       "      <td>12</td>\n",
       "      <td>4</td>\n",
       "      <td>2</td>\n",
       "      <td>0</td>\n",
       "      <td>2</td>\n",
       "      <td>0</td>\n",
       "      <td>0</td>\n",
       "      <td>0</td>\n",
       "      <td>0</td>\n",
       "      <td>...</td>\n",
       "      <td>0</td>\n",
       "      <td>0</td>\n",
       "      <td>0</td>\n",
       "      <td>0</td>\n",
       "      <td>0</td>\n",
       "      <td>1</td>\n",
       "      <td>0</td>\n",
       "      <td>0</td>\n",
       "      <td>0</td>\n",
       "      <td>0</td>\n",
       "    </tr>\n",
       "  </tbody>\n",
       "</table>\n",
       "<p>5 rows × 30 columns</p>\n",
       "</div>"
      ],
      "text/plain": [
       "   antecedencia_da_reserva  dia_chegada  noites_da_estadia  \\\n",
       "0                       26           25                  7   \n",
       "1                       31            1                  2   \n",
       "2                        4           17                  3   \n",
       "3                        6            1                  1   \n",
       "4                       65           12                  4   \n",
       "\n",
       "   noites_fim_de_semana  hotel_de_praia  adultos  criancas  bebes  ja_cliente  \\\n",
       "0                     2               1        3         0      0           0   \n",
       "1                     0               0        2         0      0           0   \n",
       "2                     0               0        2         0      0           0   \n",
       "3                     0               1        1         0      0           0   \n",
       "4                     2               0        2         0      0           0   \n",
       "\n",
       "   cancelamentos_anteriores  ...  mes_chegada_December  mes_chegada_February  \\\n",
       "0                         0  ...                     0                     0   \n",
       "1                         0  ...                     0                     0   \n",
       "2                         0  ...                     0                     0   \n",
       "3                         0  ...                     1                     0   \n",
       "4                         0  ...                     0                     0   \n",
       "\n",
       "   mes_chegada_January  mes_chegada_July  mes_chegada_June  mes_chegada_March  \\\n",
       "0                    0                 0                 0                  0   \n",
       "1                    0                 0                 1                  0   \n",
       "2                    0                 0                 0                  1   \n",
       "3                    0                 0                 0                  0   \n",
       "4                    0                 0                 0                  1   \n",
       "\n",
       "   mes_chegada_May  mes_chegada_November  mes_chegada_October  \\\n",
       "0                0                     1                    0   \n",
       "1                0                     0                    0   \n",
       "2                0                     0                    0   \n",
       "3                0                     0                    0   \n",
       "4                0                     0                    0   \n",
       "\n",
       "   mes_chegada_September  \n",
       "0                      0  \n",
       "1                      0  \n",
       "2                      0  \n",
       "3                      0  \n",
       "4                      0  \n",
       "\n",
       "[5 rows x 30 columns]"
      ]
     },
     "execution_count": 16,
     "metadata": {},
     "output_type": "execute_result"
    }
   ],
   "source": [
    "newdframe.head()"
   ]
  },
  {
   "cell_type": "markdown",
   "metadata": {},
   "source": [
    "# Dividir dataset em variáveis de teste e treino"
   ]
  },
  {
   "cell_type": "code",
   "execution_count": 17,
   "metadata": {},
   "outputs": [],
   "source": [
    "X = newdframe.drop('cancelada', axis=1)\n",
    "y = newdframe['cancelada']"
   ]
  },
  {
   "cell_type": "code",
   "execution_count": 18,
   "metadata": {},
   "outputs": [],
   "source": [
    "from sklearn.model_selection import train_test_split\n",
    "X_train, X_test, y_train, y_test = train_test_split(\n",
    "    X, \n",
    "    y, \n",
    "    test_size = 0.20, \n",
    "    random_state=1, \n",
    "    stratify=X[[\"tipo_deposito_Non Refund\"]] # uxamos esta coluna porque foi a coluna mais relevante obtida na correlação acima\n",
    ")"
   ]
  },
  {
   "cell_type": "markdown",
   "metadata": {},
   "source": [
    "# Criação do primeiro Modelo SVC"
   ]
  },
  {
   "cell_type": "code",
   "execution_count": 19,
   "metadata": {},
   "outputs": [],
   "source": [
    "from sklearn.svm import SVC\n",
    "from sklearn.metrics import f1_score, confusion_matrix, classification_report\n",
    "modelo1 = SVC()"
   ]
  },
  {
   "cell_type": "code",
   "execution_count": 20,
   "metadata": {},
   "outputs": [
    {
     "data": {
      "text/plain": [
       "SVC()"
      ]
     },
     "execution_count": 20,
     "metadata": {},
     "output_type": "execute_result"
    }
   ],
   "source": [
    "modelo1.fit(X_train, y_train)"
   ]
  },
  {
   "cell_type": "code",
   "execution_count": 21,
   "metadata": {},
   "outputs": [
    {
     "data": {
      "text/plain": [
       "0.672"
      ]
     },
     "execution_count": 21,
     "metadata": {},
     "output_type": "execute_result"
    }
   ],
   "source": [
    "modelo1.score(X_test, y_test)"
   ]
  },
  {
   "cell_type": "code",
   "execution_count": 22,
   "metadata": {},
   "outputs": [],
   "source": [
    "predicts = modelo1.predict(X_test)"
   ]
  },
  {
   "cell_type": "code",
   "execution_count": 23,
   "metadata": {},
   "outputs": [
    {
     "data": {
      "text/plain": [
       "0.3472636815920398"
      ]
     },
     "execution_count": 23,
     "metadata": {},
     "output_type": "execute_result"
    }
   ],
   "source": [
    "f1_score(y_test, predicts)"
   ]
  },
  {
   "cell_type": "code",
   "execution_count": 24,
   "metadata": {},
   "outputs": [
    {
     "name": "stdout",
     "output_type": "stream",
     "text": [
      "              precision    recall  f1-score   support\n",
      "\n",
      "           0       0.68      0.91      0.78      2559\n",
      "           1       0.61      0.24      0.35      1441\n",
      "\n",
      "    accuracy                           0.67      4000\n",
      "   macro avg       0.65      0.58      0.56      4000\n",
      "weighted avg       0.66      0.67      0.62      4000\n",
      "\n"
     ]
    }
   ],
   "source": [
    "print(classification_report(y_test, predicts))"
   ]
  },
  {
   "cell_type": "code",
   "execution_count": 25,
   "metadata": {},
   "outputs": [
    {
     "name": "stdout",
     "output_type": "stream",
     "text": [
      "[[2339  220]\n",
      " [1092  349]]\n"
     ]
    }
   ],
   "source": [
    "print(confusion_matrix(y_test, predicts))"
   ]
  },
  {
   "cell_type": "markdown",
   "metadata": {},
   "source": [
    "# Normalizar os dados"
   ]
  },
  {
   "cell_type": "code",
   "execution_count": 26,
   "metadata": {},
   "outputs": [],
   "source": [
    "from sklearn.preprocessing import StandardScaler\n",
    "scaler = StandardScaler()"
   ]
  },
  {
   "cell_type": "code",
   "execution_count": 27,
   "metadata": {},
   "outputs": [
    {
     "data": {
      "text/plain": [
       "StandardScaler()"
      ]
     },
     "execution_count": 27,
     "metadata": {},
     "output_type": "execute_result"
    }
   ],
   "source": [
    "scaler.fit(X_train)"
   ]
  },
  {
   "cell_type": "code",
   "execution_count": 28,
   "metadata": {},
   "outputs": [],
   "source": [
    "X_treino_norm = scaler.transform(X_train)\n",
    "X_teste_norm = scaler.transform(X_test)"
   ]
  },
  {
   "cell_type": "code",
   "execution_count": 29,
   "metadata": {},
   "outputs": [],
   "source": [
    "svclassifier = SVC()\n"
   ]
  },
  {
   "cell_type": "code",
   "execution_count": 30,
   "metadata": {},
   "outputs": [
    {
     "data": {
      "text/plain": [
       "SVC()"
      ]
     },
     "execution_count": 30,
     "metadata": {},
     "output_type": "execute_result"
    }
   ],
   "source": [
    "svclassifier.fit(X_treino_norm, y_train)"
   ]
  },
  {
   "cell_type": "code",
   "execution_count": 31,
   "metadata": {},
   "outputs": [],
   "source": [
    "predicts = svclassifier.predict(X_teste_norm)"
   ]
  },
  {
   "cell_type": "code",
   "execution_count": 32,
   "metadata": {},
   "outputs": [
    {
     "data": {
      "text/plain": [
       "0.79425"
      ]
     },
     "execution_count": 32,
     "metadata": {},
     "output_type": "execute_result"
    }
   ],
   "source": [
    "svclassifier.score(X_teste_norm, y_test)"
   ]
  },
  {
   "cell_type": "code",
   "execution_count": 33,
   "metadata": {},
   "outputs": [
    {
     "name": "stdout",
     "output_type": "stream",
     "text": [
      "              precision    recall  f1-score   support\n",
      "\n",
      "           0       0.76      0.98      0.86      2559\n",
      "           1       0.94      0.46      0.62      1441\n",
      "\n",
      "    accuracy                           0.79      4000\n",
      "   macro avg       0.85      0.72      0.74      4000\n",
      "weighted avg       0.83      0.79      0.77      4000\n",
      "\n"
     ]
    }
   ],
   "source": [
    "print(classification_report(y_test, predicts))"
   ]
  },
  {
   "cell_type": "code",
   "execution_count": 34,
   "metadata": {},
   "outputs": [
    {
     "data": {
      "text/plain": [
       "0.6170311772917636"
      ]
     },
     "execution_count": 34,
     "metadata": {},
     "output_type": "execute_result"
    }
   ],
   "source": [
    "f1_score(y_test, predicts)"
   ]
  },
  {
   "cell_type": "code",
   "execution_count": 35,
   "metadata": {},
   "outputs": [
    {
     "name": "stdout",
     "output_type": "stream",
     "text": [
      "[[2514   45]\n",
      " [ 778  663]]\n"
     ]
    }
   ],
   "source": [
    "print(confusion_matrix(y_test, predicts))"
   ]
  },
  {
   "cell_type": "markdown",
   "metadata": {},
   "source": [
    "# Tunning do Modelo"
   ]
  },
  {
   "cell_type": "code",
   "execution_count": 36,
   "metadata": {},
   "outputs": [],
   "source": [
    "from sklearn.model_selection import GridSearchCV"
   ]
  },
  {
   "cell_type": "code",
   "execution_count": 37,
   "metadata": {},
   "outputs": [],
   "source": [
    "grelha_parametros = {\n",
    "    'C': [13, 1 , 10],\n",
    "    'kernel':[\"rbf\"]\n",
    "} # não podemos adicionar muitos valores senão o modelo demora muito a treinar"
   ]
  },
  {
   "cell_type": "code",
   "execution_count": 38,
   "metadata": {},
   "outputs": [],
   "source": [
    "modelo1 = SVC()"
   ]
  },
  {
   "cell_type": "code",
   "execution_count": 39,
   "metadata": {},
   "outputs": [],
   "source": [
    "procura_modelo = GridSearchCV(modelo1, param_grid=grelha_parametros)"
   ]
  },
  {
   "cell_type": "code",
   "execution_count": 40,
   "metadata": {},
   "outputs": [
    {
     "data": {
      "text/plain": [
       "GridSearchCV(estimator=SVC(), param_grid={'C': [13, 1, 10], 'kernel': ['rbf']})"
      ]
     },
     "execution_count": 40,
     "metadata": {},
     "output_type": "execute_result"
    }
   ],
   "source": [
    "procura_modelo.fit(X_treino_norm, y_train)"
   ]
  },
  {
   "cell_type": "code",
   "execution_count": 41,
   "metadata": {},
   "outputs": [],
   "source": [
    "melhor_modelo = procura_modelo.best_estimator_"
   ]
  },
  {
   "cell_type": "code",
   "execution_count": null,
   "metadata": {},
   "outputs": [],
   "source": [
    "melhor_modelo.score(X_teste_norm, y_test)"
   ]
  },
  {
   "cell_type": "code",
   "execution_count": null,
   "metadata": {},
   "outputs": [],
   "source": [
    "predicts = melhor_modelo.predict(X_teste_norm)"
   ]
  },
  {
   "cell_type": "code",
   "execution_count": null,
   "metadata": {},
   "outputs": [],
   "source": [
    "print(classification_report(y_test, predicts))"
   ]
  },
  {
   "cell_type": "code",
   "execution_count": null,
   "metadata": {},
   "outputs": [],
   "source": [
    "f1_score(y_test, predicts)"
   ]
  },
  {
   "cell_type": "code",
   "execution_count": null,
   "metadata": {},
   "outputs": [],
   "source": [
    "print(confusion_matrix(y_test, predicts))"
   ]
  },
  {
   "cell_type": "markdown",
   "metadata": {},
   "source": [
    "# Construir csv com os resultados alcançados"
   ]
  },
  {
   "cell_type": "code",
   "execution_count": null,
   "metadata": {},
   "outputs": [],
   "source": [
    "dataset_nao_classificado = pd.read_csv(\"../dataset_naoclassificado.csv\", sep=\";\")\n",
    "dfnc = dataset_nao_classificado.copy()\n",
    "dataset_nao_classificado"
   ]
  },
  {
   "cell_type": "markdown",
   "metadata": {},
   "source": [
    "#### formatar devidamente o dataframe para fazer as predicts"
   ]
  },
  {
   "cell_type": "code",
   "execution_count": null,
   "metadata": {},
   "outputs": [],
   "source": [
    "dfnc.hotel_de_praia = dfnc.hotel_de_praia.map({\n",
    "    \"yes\": 1,\n",
    "    \"no\": 0\n",
    "})"
   ]
  },
  {
   "cell_type": "code",
   "execution_count": null,
   "metadata": {},
   "outputs": [],
   "source": [
    "dfnc.ja_cliente = dfnc.ja_cliente.map({\n",
    "    \"yes\": 1,\n",
    "    \"no\": 0\n",
    "})"
   ]
  },
  {
   "cell_type": "code",
   "execution_count": null,
   "metadata": {},
   "outputs": [],
   "source": [
    "ntipo_deposito = pd.get_dummies(dfnc[[\"tipo_deposito\"]], drop_first=True)"
   ]
  },
  {
   "cell_type": "code",
   "execution_count": null,
   "metadata": {},
   "outputs": [],
   "source": [
    "nregime = pd.get_dummies(dfnc[[\"regime\"]], drop_first=True)"
   ]
  },
  {
   "cell_type": "code",
   "execution_count": null,
   "metadata": {},
   "outputs": [],
   "source": [
    "nmes_chegada = pd.get_dummies(dfnc[[\"mes_chegada\"]], drop_first=True)"
   ]
  },
  {
   "cell_type": "code",
   "execution_count": null,
   "metadata": {},
   "outputs": [],
   "source": [
    "newdframe_nc = pd.concat([dfnc, ntipo_deposito, nregime, nmes_chegada], axis=1)"
   ]
  },
  {
   "cell_type": "code",
   "execution_count": null,
   "metadata": {},
   "outputs": [],
   "source": [
    "newdframe_nc.drop(columns = columns, inplace = True)"
   ]
  },
  {
   "cell_type": "code",
   "execution_count": null,
   "metadata": {},
   "outputs": [],
   "source": [
    "newdframe_nc"
   ]
  },
  {
   "cell_type": "code",
   "execution_count": null,
   "metadata": {},
   "outputs": [],
   "source": [
    "X_data_norm = scaler.transform(newdframe_nc)"
   ]
  },
  {
   "cell_type": "markdown",
   "metadata": {},
   "source": [
    "## Obter as predicts do dataframe"
   ]
  },
  {
   "cell_type": "code",
   "execution_count": null,
   "metadata": {},
   "outputs": [],
   "source": [
    "final_predicts = melhor_modelo.predict(X_data_norm)\n",
    "len(final_predicts)"
   ]
  },
  {
   "cell_type": "markdown",
   "metadata": {},
   "source": [
    "#### passar predicts para o dataset"
   ]
  },
  {
   "cell_type": "code",
   "execution_count": null,
   "metadata": {},
   "outputs": [],
   "source": [
    "dataset_nao_classificado.insert(column=\"cancelada\", value=final_predicts, loc=1)"
   ]
  },
  {
   "cell_type": "markdown",
   "metadata": {},
   "source": [
    "### exportar dataset estimado de acordo com o enunciado"
   ]
  },
  {
   "cell_type": "code",
   "execution_count": null,
   "metadata": {},
   "outputs": [],
   "source": [
    "dataset_nao_classificado.to_csv(\"./classificacao_estimada.csv\", columns=[\"id\", \"cancelada\"], sep=\";\", index=False)"
   ]
  }
 ],
 "metadata": {
  "kernelspec": {
   "display_name": "Python 3 (ipykernel)",
   "language": "python",
   "name": "python3"
  },
  "language_info": {
   "codemirror_mode": {
    "name": "ipython",
    "version": 3
   },
   "file_extension": ".py",
   "mimetype": "text/x-python",
   "name": "python",
   "nbconvert_exporter": "python",
   "pygments_lexer": "ipython3",
   "version": "3.9.13"
  },
  "vscode": {
   "interpreter": {
    "hash": "6a2d79454bb0773148eda4cdc5148e30135ed81a2893d7701be4bc6d36537189"
   }
  }
 },
 "nbformat": 4,
 "nbformat_minor": 2
}
